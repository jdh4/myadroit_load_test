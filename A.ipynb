{
 "cells": [
  {
   "cell_type": "markdown",
   "id": "bd86ab9b-68e8-44e8-949d-6a4b4bd29a84",
   "metadata": {},
   "source": [
    "# Load Test on MyAdroit (GPU nodes in the cloud)"
   ]
  },
  {
   "cell_type": "code",
   "execution_count": 4,
   "id": "bf83254d-d005-44f8-81b1-e70356a50195",
   "metadata": {},
   "outputs": [
    {
     "name": "stdout",
     "output_type": "stream",
     "text": [
      "CPU times: user 26 µs, sys: 5 µs, total: 31 µs\n",
      "Wall time: 32.2 µs\n"
     ]
    }
   ],
   "source": [
    "%%time\n",
    "import torch\n",
    "import torch.nn as nn\n",
    "import torch.nn.functional as F\n",
    "import torch.optim as optim\n",
    "from torchvision import datasets, transforms, models\n",
    "from torch.optim.lr_scheduler import StepLR"
   ]
  },
  {
   "cell_type": "code",
   "execution_count": 5,
   "id": "b9a6b833-b80b-4967-ad29-ec83f6d27abe",
   "metadata": {},
   "outputs": [
    {
     "name": "stdout",
     "output_type": "stream",
     "text": [
      "Thu Mar 21 15:57:56 2024       \n",
      "+---------------------------------------------------------------------------------------+\n",
      "| NVIDIA-SMI 545.23.08              Driver Version: 545.23.08    CUDA Version: 12.3     |\n",
      "|-----------------------------------------+----------------------+----------------------+\n",
      "| GPU  Name                 Persistence-M | Bus-Id        Disp.A | Volatile Uncorr. ECC |\n",
      "| Fan  Temp   Perf          Pwr:Usage/Cap |         Memory-Usage | GPU-Util  Compute M. |\n",
      "|                                         |                      |               MIG M. |\n",
      "|=========================================+======================+======================|\n",
      "|   0  NVIDIA A10G                    On  | 00000000:00:1E.0 Off |                    0 |\n",
      "|  0%   28C    P0              57W / 300W |   1452MiB / 23028MiB |      0%      Default |\n",
      "|                                         |                      |                  N/A |\n",
      "+-----------------------------------------+----------------------+----------------------+\n",
      "                                                                                         \n",
      "+---------------------------------------------------------------------------------------+\n",
      "| Processes:                                                                            |\n",
      "|  GPU   GI   CI        PID   Type   Process name                            GPU Memory |\n",
      "|        ID   ID                                                             Usage      |\n",
      "|=======================================================================================|\n",
      "|    0   N/A  N/A      8315      C   .../course/sml301/anaconda3/bin/python     1444MiB |\n",
      "+---------------------------------------------------------------------------------------+\n"
     ]
    }
   ],
   "source": [
    "!nvidia-smi"
   ]
  },
  {
   "cell_type": "code",
   "execution_count": null,
   "id": "91b1abd8-786e-4174-bcaa-61396fbd8261",
   "metadata": {},
   "outputs": [
    {
     "name": "stdout",
     "output_type": "stream",
     "text": [
      "Loading model ... done.\n",
      "epoch 1, batch 0\n",
      "epoch 1, batch 10\n",
      "epoch 1, batch 20\n",
      "epoch 1, batch 30\n",
      "epoch 1, batch 40\n",
      "epoch 2, batch 0\n"
     ]
    }
   ],
   "source": [
    "import os\n",
    "from time import time\n",
    "from datetime import datetime\n",
    "start_dt = datetime.now()\n",
    "start = time()\n",
    "\n",
    "use_cuda = torch.cuda.is_available()\n",
    "\n",
    "torch.manual_seed(42)\n",
    "device = torch.device(\"cuda\") if use_cuda else torch.device(\"cpu\")\n",
    "\n",
    "train_kwargs = {'batch_size': 192}\n",
    "test_kwargs  = {'batch_size': 192}\n",
    "if use_cuda:\n",
    "    cuda_kwargs = {'num_workers': 4, 'pin_memory': True}\n",
    "    train_kwargs.update(cuda_kwargs)\n",
    "    test_kwargs.update(cuda_kwargs)\n",
    "\n",
    "transform=transforms.Compose([\n",
    "    transforms.ToTensor(),\n",
    "    transforms.Normalize((0.1307,), (0.3081,))])\n",
    "dataset1 = datasets.ImageFolder(root=\"/home/jdh4/cats_vs_dogs/training_set/\", transform=transform)\n",
    "dataset2 = datasets.ImageFolder(root=\"/home/jdh4/cats_vs_dogs/test_set/\", transform=transform)\n",
    "\n",
    "train_loader = torch.utils.data.DataLoader(dataset1, shuffle=True, **train_kwargs)\n",
    "test_loader  = torch.utils.data.DataLoader(dataset2, shuffle=True, **test_kwargs)\n",
    "\n",
    "print(\"Loading model ... \", end=\"\", flush=True)\n",
    "checkpoint = torch.load('/home/jdh4/.cache/torch/hub/checkpoints/resnet50-11ad3fa6.pth')\n",
    "model = models.resnet50(pretrained=False)\n",
    "model.load_state_dict(checkpoint)\n",
    "print(\"done.\")\n",
    "for param in model.parameters():\n",
    "    param.requires_grad = False\n",
    "model.fc = nn.Sequential(nn.Linear(2048, 128), nn.ReLU(inplace=True), nn.Linear(128, 2))\n",
    "model = model.to(device)\n",
    "optimizer = optim.Adadelta(model.fc.parameters(), lr=1.0)\n",
    "\n",
    "def train(model, device, train_loader, optimizer, epoch):\n",
    "    model.train()\n",
    "    for batch_idx, (data, target) in enumerate(train_loader):\n",
    "        data, target = data.to(device), target.to(device)\n",
    "        optimizer.zero_grad()\n",
    "        output = model(data)\n",
    "        loss = F.nll_loss(F.log_softmax(output, dim=1), target)\n",
    "        loss.backward()\n",
    "        optimizer.step()\n",
    "        if batch_idx % 10 == 0:\n",
    "            print(f\"epoch {epoch}, batch {batch_idx}\")\n",
    "\n",
    "def test(model, device, test_loader):\n",
    "    model.eval()\n",
    "    test_loss = 0\n",
    "    correct = 0\n",
    "    with torch.no_grad():\n",
    "        for data, target in test_loader:\n",
    "            data, target = data.to(device), target.to(device)\n",
    "            output = model(data)\n",
    "            test_loss += F.nll_loss(output, target, reduction='sum').item()\n",
    "            pred = output.argmax(dim=1, keepdim=True)\n",
    "            correct += pred.eq(target.view_as(pred)).sum().item()\n",
    "    test_loss /= len(test_loader.dataset)\n",
    "\n",
    "epochs = 3\n",
    "scheduler = StepLR(optimizer, step_size=1, gamma=0.7)\n",
    "for epoch in range(1, epochs + 1):\n",
    "    train(model, device, train_loader, optimizer, epoch)\n",
    "    test(model, device, test_loader)\n",
    "    scheduler.step()\n",
    "\n",
    "print(f\"{round(time() - start)} seconds, timestamp={start_dt}, {os.environ['USER']}, cuda={use_cuda}\")"
   ]
  }
 ],
 "metadata": {
  "kernelspec": {
   "display_name": "Python 3 (ipykernel)",
   "language": "python",
   "name": "python3"
  },
  "language_info": {
   "codemirror_mode": {
    "name": "ipython",
    "version": 3
   },
   "file_extension": ".py",
   "mimetype": "text/x-python",
   "name": "python",
   "nbconvert_exporter": "python",
   "pygments_lexer": "ipython3",
   "version": "3.10.13"
  }
 },
 "nbformat": 4,
 "nbformat_minor": 5
}
